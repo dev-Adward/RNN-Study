{
 "cells": [
  {
   "cell_type": "code",
   "execution_count": 1,
   "id": "dc6d68b1",
   "metadata": {},
   "outputs": [],
   "source": [
    "import tensorflow as tf\n",
    "from sklearn.model_selection import train_test_split\n",
    "import pandas as pd\n",
    "import numpy as np\n",
    "import matplotlib.pyplot as plt\n",
    "from sklearn.preprocessing import StandardScaler\n",
    "from tensorflow.keras.models import Sequential\n",
    "from tensorflow.keras.layers import LSTM, Flatten, Dense, Dropout\n",
    "from sklearn.preprocessing import MinMaxScaler"
   ]
  },
  {
   "cell_type": "code",
   "execution_count": 4,
   "id": "88b9c412",
   "metadata": {},
   "outputs": [
    {
     "name": "stdout",
     "output_type": "stream",
     "text": [
      "                   timestamp      open      high       low     close  \\\n",
      "0        2023-08-01 13:19:00  28902.48  28902.49  28902.48  28902.49   \n",
      "1        2023-08-01 13:18:00  28902.48  28902.49  28902.48  28902.49   \n",
      "2        2023-08-01 13:17:00  28908.52  28908.53  28902.48  28902.49   \n",
      "3        2023-08-01 13:16:00  28907.41  28912.74  28907.41  28908.53   \n",
      "4        2023-08-01 13:15:00  28896.00  28907.42  28893.03  28907.41   \n",
      "...                      ...       ...       ...       ...       ...   \n",
      "3125995  2017-08-17 04:04:00   4261.48   4261.48   4261.48   4261.48   \n",
      "3125996  2017-08-17 04:03:00   4261.48   4261.48   4261.48   4261.48   \n",
      "3125997  2017-08-17 04:02:00   4280.56   4280.56   4280.56   4280.56   \n",
      "3125998  2017-08-17 04:01:00   4261.48   4261.48   4261.48   4261.48   \n",
      "3125999  2017-08-17 04:00:00   4261.48   4261.48   4261.48   4261.48   \n",
      "\n",
      "            volume  taker_buy_base_asset_volume  taker_buy_quote_asset_volume  \n",
      "0         4.686580                     0.893910                  25836.224836  \n",
      "1         4.775890                     2.245460                  64899.385195  \n",
      "2        11.522630                     2.708730                  78290.170121  \n",
      "3        15.896100                    10.229810                 295738.166916  \n",
      "4        37.746570                    16.504520                 476955.246611  \n",
      "...            ...                          ...                           ...  \n",
      "3125995   0.140796                     0.140796                    599.999338  \n",
      "3125996   0.012008                     0.012008                     51.171852  \n",
      "3125997   0.261074                     0.261074                   1117.542921  \n",
      "3125998   0.000000                     0.000000                      0.000000  \n",
      "3125999   1.775183                     0.075183                    320.390851  \n",
      "\n",
      "[3126000 rows x 8 columns]\n"
     ]
    }
   ],
   "source": [
    "csv_data = pd.read_csv('D:/AI/bitcoin/bitcoin_2017_to_2023.csv')\n",
    "\n",
    "# print(csv_data)\n",
    "data = csv_data.drop(columns=[\"quote_asset_volume\",\"number_of_trades\"])\n",
    "print(data)\n",
    "\n",
    "# train_input, val_input, train_target, val_target = train_test_split(train_input, train_target, test_size=0.2, random_state=42)"
   ]
  },
  {
   "cell_type": "code",
   "execution_count": null,
   "id": "f602ca5a",
   "metadata": {},
   "outputs": [],
   "source": []
  }
 ],
 "metadata": {
  "kernelspec": {
   "display_name": "Python 3 (ipykernel)",
   "language": "python",
   "name": "python3"
  },
  "language_info": {
   "codemirror_mode": {
    "name": "ipython",
    "version": 3
   },
   "file_extension": ".py",
   "mimetype": "text/x-python",
   "name": "python",
   "nbconvert_exporter": "python",
   "pygments_lexer": "ipython3",
   "version": "3.11.4"
  }
 },
 "nbformat": 4,
 "nbformat_minor": 5
}
