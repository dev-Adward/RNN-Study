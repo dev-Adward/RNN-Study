{
 "cells": [
  {
   "cell_type": "code",
   "execution_count": null,
   "id": "83dbc17b",
   "metadata": {},
   "outputs": [],
   "source": [
    "import tensorflow as tf\n",
    "from sklearn.model_selection import train_test_split\n",
    "import pandas as pd\n",
    "import numpy as np\n",
    "import matplotlib.pyplot as plt\n",
    "from sklearn.preprocessing import StandardScaler\n",
    "from tensorflow.keras.models import Sequential\n",
    "from tensorflow.keras.layers import LSTM, Flatten, Dense, Dropout\n",
    "from sklearn.preprocessing import MinMaxScaler"
   ]
  },
  {
   "cell_type": "code",
   "execution_count": null,
   "id": "f0e9fc5b",
   "metadata": {},
   "outputs": [],
   "source": [
    "csv_data = pd.read_csv('D:/AI/bitcoin/bitcoin_2017_to_2023.csv')\n",
    "\n",
    "# print(csv_data)\n",
    "data = csv_data.drop(columns=[\"quote_asset_volume\",\"number_of_trades\"])\n",
    "print(data)\n",
    "\n",
    "# train_input, val_input, train_target, val_target = train_test_split(train_input, train_target, test_size=0.2, random_state=42)"
   ]
  },
  {
   "cell_type": "code",
   "execution_count": null,
   "id": "a9deeb00",
   "metadata": {},
   "outputs": [],
   "source": [
    "plt.scatter(data[\"timestamp\"], data[\"close\"])\n",
    "plt.show()"
   ]
  },
  {
   "cell_type": "code",
   "execution_count": null,
   "id": "dbd13897",
   "metadata": {},
   "outputs": [],
   "source": []
  }
 ],
 "metadata": {
  "kernelspec": {
   "display_name": "Python 3 (ipykernel)",
   "language": "python",
   "name": "python3"
  },
  "language_info": {
   "codemirror_mode": {
    "name": "ipython",
    "version": 3
   },
   "file_extension": ".py",
   "mimetype": "text/x-python",
   "name": "python",
   "nbconvert_exporter": "python",
   "pygments_lexer": "ipython3",
   "version": "3.11.4"
  }
 },
 "nbformat": 4,
 "nbformat_minor": 5
}
